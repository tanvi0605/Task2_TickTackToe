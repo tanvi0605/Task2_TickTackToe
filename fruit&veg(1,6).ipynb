{
  "nbformat": 4,
  "nbformat_minor": 0,
  "metadata": {
    "colab": {
      "provenance": [],
      "mount_file_id": "1R16OfFzhgyGcoQ76qeXPh6JMN55rfZXq",
      "authorship_tag": "ABX9TyM2TIFzOP/0SG3/h8SaUtMI",
      "include_colab_link": true
    },
    "kernelspec": {
      "name": "python3",
      "display_name": "Python 3"
    },
    "language_info": {
      "name": "python"
    }
  },
  "cells": [
    {
      "cell_type": "markdown",
      "metadata": {
        "id": "view-in-github",
        "colab_type": "text"
      },
      "source": [
        "<a href=\"https://colab.research.google.com/github/tanvi0605/Task2_TickTackToe/blob/main/fruit%26veg(1%2C6).ipynb\" target=\"_parent\"><img src=\"https://colab.research.google.com/assets/colab-badge.svg\" alt=\"Open In Colab\"/></a>"
      ]
    },
    {
      "cell_type": "code",
      "execution_count": null,
      "metadata": {
        "colab": {
          "base_uri": "https://localhost:8080/"
        },
        "id": "rFVZPl9uQmMM",
        "outputId": "ddbb7e33-b1b3-42e2-8b5f-5d40789ac32d"
      },
      "outputs": [
        {
          "output_type": "stream",
          "name": "stdout",
          "text": [
            "Drive already mounted at /content/drive; to attempt to forcibly remount, call drive.mount(\"/content/drive\", force_remount=True).\n"
          ]
        }
      ],
      "source": [
        "from google.colab import drive  #upto 6\n",
        "drive.mount('/content/drive')"
      ]
    },
    {
      "cell_type": "code",
      "source": [
        "import numpy as np\n",
        "import tensorflow as tf\n",
        "import matplotlib.pyplot as plt\n"
      ],
      "metadata": {
        "id": "bS0Gt1zUckKc"
      },
      "execution_count": 2,
      "outputs": []
    },
    {
      "cell_type": "code",
      "source": [
        "training_set= tf.keras.utils.image_dataset_from_directory(\n",
        "    '/content/drive/MyDrive/fruit and vegetable recognition/train',\n",
        "    labels=\"inferred\",\n",
        "    label_mode=\"categorical\",\n",
        "    class_names=None,\n",
        "    color_mode=\"rgb\",\n",
        "    batch_size=32,\n",
        "    image_size=(64, 64),\n",
        "    shuffle=True,\n",
        "    seed=None,\n",
        "    validation_split=None,\n",
        "    subset=None,\n",
        "    interpolation=\"bilinear\",\n",
        "    follow_links=False,\n",
        "    crop_to_aspect_ratio=False,\n",
        ")\n"
      ],
      "metadata": {
        "colab": {
          "base_uri": "https://localhost:8080/"
        },
        "id": "ngVvMIurc2fj",
        "outputId": "99a84f8d-7234-435a-9005-a4592e3a7a6c"
      },
      "execution_count": 5,
      "outputs": [
        {
          "output_type": "stream",
          "name": "stdout",
          "text": [
            "Found 3115 files belonging to 36 classes.\n"
          ]
        }
      ]
    },
    {
      "cell_type": "code",
      "source": [
        "validation_set=tf.keras.utils.image_dataset_from_directory(\n",
        "    '/content/drive/MyDrive/fruit and vegetable/validation',\n",
        "    labels=\"inferred\",\n",
        "    label_mode=\"categorical\",\n",
        "    class_names=None,\n",
        "    color_mode=\"rgb\",\n",
        "    batch_size=32,\n",
        "    image_size=(64, 64),\n",
        "    shuffle=True,\n",
        "    seed=None,\n",
        "    validation_split=None,\n",
        "    subset=None,\n",
        "    interpolation=\"bilinear\",\n",
        "    follow_links=False,\n",
        "    crop_to_aspect_ratio=False\n",
        ")"
      ],
      "metadata": {
        "colab": {
          "base_uri": "https://localhost:8080/"
        },
        "id": "1u0eGhkJloFR",
        "outputId": "59bf6e7a-5668-4e86-a4d4-65f0390ab9de"
      },
      "execution_count": 6,
      "outputs": [
        {
          "output_type": "stream",
          "name": "stdout",
          "text": [
            "Found 341 files belonging to 36 classes.\n"
          ]
        }
      ]
    },
    {
      "cell_type": "code",
      "source": [
        "cnn=tf.keras.models.Sequential()"
      ],
      "metadata": {
        "id": "-ze0iz7Kmzui"
      },
      "execution_count": 7,
      "outputs": []
    },
    {
      "cell_type": "code",
      "source": [
        "cnn.add(tf.keras.layers.Conv2D(filters=64,kernel_size=3,activation='relu',input_shape=[64,64,3]))\n",
        "cnn.add(tf.keras.layers.MaxPool2D(pool_size=2,strides=2))"
      ],
      "metadata": {
        "id": "n5QrX0HTnCBp"
      },
      "execution_count": 8,
      "outputs": []
    },
    {
      "cell_type": "code",
      "source": [
        "cnn.add(tf.keras.layers.Conv2D(filters=64,kernel_size=3,activation='relu'))\n",
        "cnn.add(tf.keras.layers.MaxPool2D(pool_size=2,strides=2))"
      ],
      "metadata": {
        "id": "MA_K8NwmoRVc"
      },
      "execution_count": 9,
      "outputs": []
    },
    {
      "cell_type": "code",
      "source": [
        "cnn.add(tf.keras.layers.Dropout(0.5))"
      ],
      "metadata": {
        "id": "T4uEJ3xtod57"
      },
      "execution_count": 10,
      "outputs": []
    },
    {
      "cell_type": "code",
      "source": [
        "cnn.add(tf.keras.layers.Flatten())"
      ],
      "metadata": {
        "id": "CZWqNaJeooqR"
      },
      "execution_count": 11,
      "outputs": []
    },
    {
      "cell_type": "code",
      "source": [
        "cnn.add(tf.keras.layers.Dense(units=128,activation='relu'))"
      ],
      "metadata": {
        "id": "BZrYYvFYoujt"
      },
      "execution_count": 12,
      "outputs": []
    },
    {
      "cell_type": "code",
      "source": [
        "cnn.add(tf.keras.layers.Dense(units=36,activation='softmax'))"
      ],
      "metadata": {
        "id": "x5JzkKE7o7Zi"
      },
      "execution_count": 13,
      "outputs": []
    },
    {
      "cell_type": "code",
      "source": [
        "cnn.compile(optimizer='rmsprop',loss='categorical_crossentropy',metrics=['accuracy'])"
      ],
      "metadata": {
        "id": "1fJHHDChpQNn"
      },
      "execution_count": 14,
      "outputs": []
    },
    {
      "cell_type": "code",
      "source": [
        "training_history=cnn.fit(x=training_set,validation_data=validation_set,epochs=30)"
      ],
      "metadata": {
        "colab": {
          "base_uri": "https://localhost:8080/"
        },
        "id": "JWLot5jNqA6I",
        "outputId": "533bd8e1-2b33-4b42-d847-9ea78dfe1c17"
      },
      "execution_count": 15,
      "outputs": [
        {
          "output_type": "stream",
          "name": "stdout",
          "text": [
            "Epoch 1/30\n",
            "98/98 [==============================] - 784s 7s/step - loss: 9.2345 - accuracy: 0.0427 - val_loss: 3.5045 - val_accuracy: 0.1026\n",
            "Epoch 2/30\n",
            "98/98 [==============================] - 112s 1s/step - loss: 4.1184 - accuracy: 0.0706 - val_loss: 3.2324 - val_accuracy: 0.1525\n",
            "Epoch 3/30\n",
            "98/98 [==============================] - 116s 1s/step - loss: 4.0447 - accuracy: 0.1136 - val_loss: 3.2927 - val_accuracy: 0.1466\n",
            "Epoch 4/30\n",
            "98/98 [==============================] - 126s 1s/step - loss: 3.5572 - accuracy: 0.1692 - val_loss: 2.5906 - val_accuracy: 0.3226\n",
            "Epoch 5/30\n",
            "98/98 [==============================] - 109s 1s/step - loss: 3.4233 - accuracy: 0.2164 - val_loss: 2.2592 - val_accuracy: 0.4370\n",
            "Epoch 6/30\n",
            "98/98 [==============================] - 108s 1s/step - loss: 3.3145 - accuracy: 0.2751 - val_loss: 2.6365 - val_accuracy: 0.3842\n",
            "Epoch 7/30\n",
            "98/98 [==============================] - 109s 1s/step - loss: 2.7308 - accuracy: 0.3429 - val_loss: 1.8221 - val_accuracy: 0.6217\n",
            "Epoch 8/30\n",
            "98/98 [==============================] - 115s 1s/step - loss: 2.6775 - accuracy: 0.4000 - val_loss: 1.8837 - val_accuracy: 0.6100\n",
            "Epoch 9/30\n",
            "98/98 [==============================] - 119s 1s/step - loss: 2.4715 - accuracy: 0.4238 - val_loss: 1.5335 - val_accuracy: 0.6716\n",
            "Epoch 10/30\n",
            "98/98 [==============================] - 111s 1s/step - loss: 2.0006 - accuracy: 0.4841 - val_loss: 1.4986 - val_accuracy: 0.6979\n",
            "Epoch 11/30\n",
            "98/98 [==============================] - 119s 1s/step - loss: 2.0430 - accuracy: 0.5223 - val_loss: 1.3735 - val_accuracy: 0.7155\n",
            "Epoch 12/30\n",
            "98/98 [==============================] - 110s 1s/step - loss: 1.9970 - accuracy: 0.5653 - val_loss: 1.7833 - val_accuracy: 0.6100\n",
            "Epoch 13/30\n",
            "98/98 [==============================] - 117s 1s/step - loss: 1.6606 - accuracy: 0.6205 - val_loss: 1.6563 - val_accuracy: 0.7243\n",
            "Epoch 14/30\n",
            "98/98 [==============================] - 109s 1s/step - loss: 1.5395 - accuracy: 0.6427 - val_loss: 1.0657 - val_accuracy: 0.8358\n",
            "Epoch 15/30\n",
            "98/98 [==============================] - 119s 1s/step - loss: 1.4867 - accuracy: 0.6652 - val_loss: 1.0657 - val_accuracy: 0.8094\n",
            "Epoch 16/30\n",
            "98/98 [==============================] - 109s 1s/step - loss: 1.4216 - accuracy: 0.6751 - val_loss: 0.9204 - val_accuracy: 0.8152\n",
            "Epoch 17/30\n",
            "98/98 [==============================] - 114s 1s/step - loss: 1.2868 - accuracy: 0.7037 - val_loss: 1.1307 - val_accuracy: 0.8416\n",
            "Epoch 18/30\n",
            "98/98 [==============================] - 120s 1s/step - loss: 1.3937 - accuracy: 0.7124 - val_loss: 1.1079 - val_accuracy: 0.8358\n",
            "Epoch 19/30\n",
            "98/98 [==============================] - 110s 1s/step - loss: 1.6379 - accuracy: 0.7467 - val_loss: 0.9025 - val_accuracy: 0.8739\n",
            "Epoch 20/30\n",
            "98/98 [==============================] - 111s 1s/step - loss: 1.2046 - accuracy: 0.7554 - val_loss: 0.7817 - val_accuracy: 0.8944\n",
            "Epoch 21/30\n",
            "98/98 [==============================] - 108s 1s/step - loss: 1.3239 - accuracy: 0.7589 - val_loss: 1.0559 - val_accuracy: 0.8886\n",
            "Epoch 22/30\n",
            "98/98 [==============================] - 124s 1s/step - loss: 1.1609 - accuracy: 0.7634 - val_loss: 1.1189 - val_accuracy: 0.8504\n",
            "Epoch 23/30\n",
            "98/98 [==============================] - 110s 1s/step - loss: 1.7677 - accuracy: 0.7772 - val_loss: 0.8348 - val_accuracy: 0.9003\n",
            "Epoch 24/30\n",
            "98/98 [==============================] - 108s 1s/step - loss: 0.9869 - accuracy: 0.8026 - val_loss: 0.9783 - val_accuracy: 0.9208\n",
            "Epoch 25/30\n",
            "98/98 [==============================] - 108s 1s/step - loss: 0.8335 - accuracy: 0.8154 - val_loss: 1.5896 - val_accuracy: 0.8123\n",
            "Epoch 26/30\n",
            "98/98 [==============================] - 109s 1s/step - loss: 1.0209 - accuracy: 0.8170 - val_loss: 1.0588 - val_accuracy: 0.9062\n",
            "Epoch 27/30\n",
            "98/98 [==============================] - 115s 1s/step - loss: 1.0655 - accuracy: 0.8295 - val_loss: 0.9173 - val_accuracy: 0.9443\n",
            "Epoch 28/30\n",
            "98/98 [==============================] - 118s 1s/step - loss: 0.9886 - accuracy: 0.8350 - val_loss: 1.9482 - val_accuracy: 0.8446\n",
            "Epoch 29/30\n",
            "98/98 [==============================] - 110s 1s/step - loss: 0.8721 - accuracy: 0.8385 - val_loss: 0.9713 - val_accuracy: 0.9443\n",
            "Epoch 30/30\n",
            "98/98 [==============================] - 117s 1s/step - loss: 0.8411 - accuracy: 0.8517 - val_loss: 1.0870 - val_accuracy: 0.9238\n"
          ]
        }
      ]
    },
    {
      "cell_type": "code",
      "source": [
        "cnn.save('trained_model.h5')"
      ],
      "metadata": {
        "colab": {
          "base_uri": "https://localhost:8080/"
        },
        "id": "vHnPlnsfrFUX",
        "outputId": "ba2d59ca-01c4-433b-85b4-2634a5a86028"
      },
      "execution_count": 16,
      "outputs": [
        {
          "output_type": "stream",
          "name": "stderr",
          "text": [
            "/usr/local/lib/python3.10/dist-packages/keras/src/engine/training.py:3079: UserWarning: You are saving your model as an HDF5 file via `model.save()`. This file format is considered legacy. We recommend using instead the native Keras format, e.g. `model.save('my_model.keras')`.\n",
            "  saving_api.save_model(\n"
          ]
        }
      ]
    },
    {
      "cell_type": "code",
      "source": [
        "training_history.history"
      ],
      "metadata": {
        "colab": {
          "base_uri": "https://localhost:8080/"
        },
        "id": "gfAPV9H4tqXz",
        "outputId": "62a5ca3b-222b-44ef-b8b9-10006905aa80"
      },
      "execution_count": 17,
      "outputs": [
        {
          "output_type": "execute_result",
          "data": {
            "text/plain": [
              "{'loss': [9.234529495239258,\n",
              "  4.118383407592773,\n",
              "  4.044748306274414,\n",
              "  3.557243824005127,\n",
              "  3.42325758934021,\n",
              "  3.314539670944214,\n",
              "  2.7308411598205566,\n",
              "  2.677492141723633,\n",
              "  2.471486806869507,\n",
              "  2.0005667209625244,\n",
              "  2.043030261993408,\n",
              "  1.9969772100448608,\n",
              "  1.6606190204620361,\n",
              "  1.5394657850265503,\n",
              "  1.4867039918899536,\n",
              "  1.4215962886810303,\n",
              "  1.2867934703826904,\n",
              "  1.393733024597168,\n",
              "  1.6379003524780273,\n",
              "  1.2046198844909668,\n",
              "  1.3239035606384277,\n",
              "  1.1608598232269287,\n",
              "  1.767710566520691,\n",
              "  0.9869211912155151,\n",
              "  0.8335448503494263,\n",
              "  1.020937204360962,\n",
              "  1.065496802330017,\n",
              "  0.9886202812194824,\n",
              "  0.8720728754997253,\n",
              "  0.8410710096359253],\n",
              " 'accuracy': [0.04269662871956825,\n",
              "  0.07062600553035736,\n",
              "  0.11364366114139557,\n",
              "  0.16918137669563293,\n",
              "  0.21637238562107086,\n",
              "  0.2751203775405884,\n",
              "  0.34285715222358704,\n",
              "  0.4000000059604645,\n",
              "  0.42375603318214417,\n",
              "  0.48410916328430176,\n",
              "  0.5223113894462585,\n",
              "  0.5653290748596191,\n",
              "  0.6205457448959351,\n",
              "  0.6426966190338135,\n",
              "  0.6651685237884521,\n",
              "  0.6751204133033752,\n",
              "  0.703691840171814,\n",
              "  0.7123595476150513,\n",
              "  0.7467094659805298,\n",
              "  0.7553772330284119,\n",
              "  0.7589085102081299,\n",
              "  0.7634028792381287,\n",
              "  0.77720707654953,\n",
              "  0.8025681972503662,\n",
              "  0.8154093027114868,\n",
              "  0.8170144557952881,\n",
              "  0.8295345306396484,\n",
              "  0.834991991519928,\n",
              "  0.838523268699646,\n",
              "  0.8516854047775269],\n",
              " 'val_loss': [3.5045337677001953,\n",
              "  3.232386350631714,\n",
              "  3.292653799057007,\n",
              "  2.5905635356903076,\n",
              "  2.2592124938964844,\n",
              "  2.6365244388580322,\n",
              "  1.8221346139907837,\n",
              "  1.8836613893508911,\n",
              "  1.5335497856140137,\n",
              "  1.4986480474472046,\n",
              "  1.3734726905822754,\n",
              "  1.783263087272644,\n",
              "  1.6562607288360596,\n",
              "  1.0657188892364502,\n",
              "  1.0657107830047607,\n",
              "  0.9204006791114807,\n",
              "  1.1307395696640015,\n",
              "  1.1078723669052124,\n",
              "  0.9025207757949829,\n",
              "  0.7817373871803284,\n",
              "  1.0558643341064453,\n",
              "  1.118911862373352,\n",
              "  0.8347544074058533,\n",
              "  0.9783013463020325,\n",
              "  1.589560627937317,\n",
              "  1.0588420629501343,\n",
              "  0.9173441529273987,\n",
              "  1.9482486248016357,\n",
              "  0.9713361263275146,\n",
              "  1.0870379209518433],\n",
              " 'val_accuracy': [0.10263929516077042,\n",
              "  0.1524926722049713,\n",
              "  0.14662756025791168,\n",
              "  0.32258063554763794,\n",
              "  0.436950147151947,\n",
              "  0.3841642141342163,\n",
              "  0.6217008829116821,\n",
              "  0.6099706888198853,\n",
              "  0.6715542674064636,\n",
              "  0.6979472041130066,\n",
              "  0.7155424952507019,\n",
              "  0.6099706888198853,\n",
              "  0.7243402004241943,\n",
              "  0.8357771039009094,\n",
              "  0.8093841671943665,\n",
              "  0.8152492642402649,\n",
              "  0.8416422009468079,\n",
              "  0.8357771039009094,\n",
              "  0.873900294303894,\n",
              "  0.8944281339645386,\n",
              "  0.8885630369186401,\n",
              "  0.8504399061203003,\n",
              "  0.900293231010437,\n",
              "  0.9208211302757263,\n",
              "  0.8123167157173157,\n",
              "  0.9061583280563354,\n",
              "  0.9442815184593201,\n",
              "  0.8445748090744019,\n",
              "  0.9442815184593201,\n",
              "  0.9237536787986755]}"
            ]
          },
          "metadata": {},
          "execution_count": 17
        }
      ]
    },
    {
      "cell_type": "code",
      "source": [
        "import json\n",
        "with open('training_hist.json','w')as f:\n",
        " json.dump(training_history.history,f)"
      ],
      "metadata": {
        "id": "Qri1EKwmtdBU"
      },
      "execution_count": 18,
      "outputs": []
    },
    {
      "cell_type": "code",
      "source": [
        "print(training_history.history.keys())"
      ],
      "metadata": {
        "id": "mPfCsXAGuj3Q",
        "colab": {
          "base_uri": "https://localhost:8080/"
        },
        "outputId": "a4d1bbf5-5468-4b4b-9dfe-dac38ad688f4"
      },
      "execution_count": 19,
      "outputs": [
        {
          "output_type": "stream",
          "name": "stdout",
          "text": [
            "dict_keys(['loss', 'accuracy', 'val_loss', 'val_accuracy'])\n"
          ]
        }
      ]
    },
    {
      "cell_type": "code",
      "source": [
        "print(\"validation set accuracy: {} %\".format(training_history.history['val_accuracy'][-1]*100))"
      ],
      "metadata": {
        "id": "sVF8UihPuxQv",
        "colab": {
          "base_uri": "https://localhost:8080/"
        },
        "outputId": "a157f1f7-de6f-4c62-9e72-c603dda5828f"
      },
      "execution_count": 20,
      "outputs": [
        {
          "output_type": "stream",
          "name": "stdout",
          "text": [
            "validation set accuracy: 92.37536787986755 %\n"
          ]
        }
      ]
    },
    {
      "cell_type": "code",
      "source": [
        "epochs=[i for i in range(1,31)]\n",
        "plt.plot(epochs,training_history.history['accuracy'],color='red')\n",
        "plt.xlabel('epochs')\n",
        "plt.ylabel('Training Accuracy')\n",
        "plt.title('visualization of Training accuracy result')\n",
        "plt.show()"
      ],
      "metadata": {
        "colab": {
          "base_uri": "https://localhost:8080/",
          "height": 472
        },
        "id": "mPrUr2fUwZU7",
        "outputId": "15b90688-ddc7-43a9-dbeb-cc02764d8930"
      },
      "execution_count": 21,
      "outputs": [
        {
          "output_type": "display_data",
          "data": {
            "text/plain": [
              "<Figure size 640x480 with 1 Axes>"
            ],
            "image/png": "[encoded data removed]"
          },
          "metadata": {}
        }
      ]
    },
    {
      "cell_type": "code",
      "source": [
        "plt.plot(epochs,training_history.history['val_accuracy'],color='blue')\n",
        "plt.xlabel('No.of.epochs')\n",
        "plt.ylabel('validation accuracy')\n",
        "plt.title('visualization of Validation accuracy result')\n",
        "plt.show()"
      ],
      "metadata": {
        "id": "CoX3to21wmvg",
        "colab": {
          "base_uri": "https://localhost:8080/",
          "height": 472
        },
        "outputId": "445e462b-3903-4862-e658-ba63cfbe37fc"
      },
      "execution_count": 22,
      "outputs": [
        {
          "output_type": "display_data",
          "data": {
            "text/plain": [
              "<Figure size 640x480 with 1 Axes>"
            ],
            "image/png": "[encoded data removed]"
          },
          "metadata": {}
        }
      ]
    },
    {
      "cell_type": "code",
      "source": [],
      "metadata": {
        "id": "m87JI5hdx2YG"
      },
      "execution_count": null,
      "outputs": []
    }
  ]
}